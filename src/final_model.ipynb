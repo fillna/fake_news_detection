{
 "cells": [
  {
   "cell_type": "code",
   "execution_count": 1,
   "metadata": {},
   "outputs": [],
   "source": [
    "import pandas as pd\n",
    "import csv\n",
    "\n",
    "from sklearn.model_selection import train_test_split\n",
    "from sklearn.linear_model import LogisticRegression"
   ]
  },
  {
   "cell_type": "code",
   "execution_count": 8,
   "metadata": {},
   "outputs": [],
   "source": [
    "def encode_label(label:str):\n",
    "    if label == 'true': return 0\n",
    "    if label == 'mostly-true': return 1\n",
    "    if label == 'barely-true': return 2\n",
    "    if label == 'half-true': return 3\n",
    "    if label == 'false': return 4\n",
    "    if label == 'pants-fire': return 5\n",
    "    return -1"
   ]
  },
  {
   "cell_type": "code",
   "execution_count": 9,
   "metadata": {},
   "outputs": [
    {
     "data": {
      "text/html": [
       "<div>\n",
       "<style scoped>\n",
       "    .dataframe tbody tr th:only-of-type {\n",
       "        vertical-align: middle;\n",
       "    }\n",
       "\n",
       "    .dataframe tbody tr th {\n",
       "        vertical-align: top;\n",
       "    }\n",
       "\n",
       "    .dataframe thead th {\n",
       "        text-align: right;\n",
       "    }\n",
       "</style>\n",
       "<table border=\"1\" class=\"dataframe\">\n",
       "  <thead>\n",
       "    <tr style=\"text-align: right;\">\n",
       "      <th></th>\n",
       "      <th>source</th>\n",
       "      <th>context</th>\n",
       "      <th>headline</th>\n",
       "      <th>target</th>\n",
       "      <th>speaker</th>\n",
       "      <th>src_true</th>\n",
       "      <th>src_mostly_true</th>\n",
       "      <th>src_half_true</th>\n",
       "      <th>src_mostly_false</th>\n",
       "      <th>src_false</th>\n",
       "      <th>src_pants_on_fire</th>\n",
       "    </tr>\n",
       "  </thead>\n",
       "  <tbody>\n",
       "    <tr>\n",
       "      <th>0</th>\n",
       "      <td>Instagram posts</td>\n",
       "      <td>stated on October 28, 2023 in a screenshot sha...</td>\n",
       "      <td>“Haaretz investigation reveals discrepancies i...</td>\n",
       "      <td>4</td>\n",
       "      <td>Madison Czopek</td>\n",
       "      <td>5.0</td>\n",
       "      <td>3.0</td>\n",
       "      <td>16.0</td>\n",
       "      <td>54.0</td>\n",
       "      <td>480.0</td>\n",
       "      <td>157.0</td>\n",
       "    </tr>\n",
       "    <tr>\n",
       "      <th>1</th>\n",
       "      <td>Scott Walker</td>\n",
       "      <td>stated on May 30, 2023 in Interview:</td>\n",
       "      <td>“Wisconsin has historically … and I think larg...</td>\n",
       "      <td>2</td>\n",
       "      <td>Laura Schulte</td>\n",
       "      <td>26.0</td>\n",
       "      <td>45.0</td>\n",
       "      <td>39.0</td>\n",
       "      <td>41.0</td>\n",
       "      <td>44.0</td>\n",
       "      <td>11.0</td>\n",
       "    </tr>\n",
       "    <tr>\n",
       "      <th>2</th>\n",
       "      <td>Instagram posts</td>\n",
       "      <td>stated on October 27, 2023 in a post:</td>\n",
       "      <td>“The airport in Salzburg, Austria, has a count...</td>\n",
       "      <td>4</td>\n",
       "      <td>Ciara O'Rourke</td>\n",
       "      <td>5.0</td>\n",
       "      <td>3.0</td>\n",
       "      <td>16.0</td>\n",
       "      <td>54.0</td>\n",
       "      <td>480.0</td>\n",
       "      <td>157.0</td>\n",
       "    </tr>\n",
       "    <tr>\n",
       "      <th>3</th>\n",
       "      <td>Viral image</td>\n",
       "      <td>stated on October 27, 2023 in an Instagram post:</td>\n",
       "      <td>Video shows Palestinians pretending to be corp...</td>\n",
       "      <td>4</td>\n",
       "      <td>Ciara O'Rourke</td>\n",
       "      <td>4.0</td>\n",
       "      <td>13.0</td>\n",
       "      <td>35.0</td>\n",
       "      <td>53.0</td>\n",
       "      <td>764.0</td>\n",
       "      <td>340.0</td>\n",
       "    </tr>\n",
       "    <tr>\n",
       "      <th>4</th>\n",
       "      <td>Facebook posts</td>\n",
       "      <td>stated on September 25, 2023 in a Facebook post:</td>\n",
       "      <td>The life span of a wind tower generator lasts ...</td>\n",
       "      <td>4</td>\n",
       "      <td>Loreben Tuquero</td>\n",
       "      <td>24.0</td>\n",
       "      <td>50.0</td>\n",
       "      <td>108.0</td>\n",
       "      <td>247.0</td>\n",
       "      <td>1532.0</td>\n",
       "      <td>595.0</td>\n",
       "    </tr>\n",
       "  </tbody>\n",
       "</table>\n",
       "</div>"
      ],
      "text/plain": [
       "            source                                            context  \\\n",
       "0  Instagram posts  stated on October 28, 2023 in a screenshot sha...   \n",
       "1     Scott Walker               stated on May 30, 2023 in Interview:   \n",
       "2  Instagram posts              stated on October 27, 2023 in a post:   \n",
       "3      Viral image   stated on October 27, 2023 in an Instagram post:   \n",
       "4   Facebook posts   stated on September 25, 2023 in a Facebook post:   \n",
       "\n",
       "                                            headline  target          speaker  \\\n",
       "0  “Haaretz investigation reveals discrepancies i...       4   Madison Czopek   \n",
       "1  “Wisconsin has historically … and I think larg...       2    Laura Schulte   \n",
       "2  “The airport in Salzburg, Austria, has a count...       4   Ciara O'Rourke   \n",
       "3  Video shows Palestinians pretending to be corp...       4   Ciara O'Rourke   \n",
       "4  The life span of a wind tower generator lasts ...       4  Loreben Tuquero   \n",
       "\n",
       "   src_true  src_mostly_true  src_half_true  src_mostly_false  src_false  \\\n",
       "0       5.0              3.0           16.0              54.0      480.0   \n",
       "1      26.0             45.0           39.0              41.0       44.0   \n",
       "2       5.0              3.0           16.0              54.0      480.0   \n",
       "3       4.0             13.0           35.0              53.0      764.0   \n",
       "4      24.0             50.0          108.0             247.0     1532.0   \n",
       "\n",
       "   src_pants_on_fire  \n",
       "0              157.0  \n",
       "1               11.0  \n",
       "2              157.0  \n",
       "3              340.0  \n",
       "4              595.0  "
      ]
     },
     "execution_count": 9,
     "metadata": {},
     "output_type": "execute_result"
    }
   ],
   "source": [
    "df = pd.read_csv('../data/politifact_plus.csv').drop(columns=['documented_time', 'author_score', 'summaries', 'article']).rename(columns={'when/where':'context'})\n",
    "df['target'] = df['target'].apply(encode_label)\n",
    "df.head()"
   ]
  },
  {
   "cell_type": "code",
   "execution_count": 10,
   "metadata": {},
   "outputs": [
    {
     "name": "stdout",
     "output_type": "stream",
     "text": [
      "Training Accuracy: 0.952578\n",
      "Testing Accuracy: 0.946250\n",
      "              precision    recall  f1-score   support\n",
      "\n",
      "           0       0.95      0.95      0.95     12823\n",
      "           1       0.95      0.95      0.95     12777\n",
      "\n",
      "    accuracy                           0.95     25600\n",
      "   macro avg       0.95      0.95      0.95     25600\n",
      "weighted avg       0.95      0.95      0.95     25600\n",
      "\n",
      "Training Accuracy: 0.977538\n",
      "              precision    recall  f1-score   support\n",
      "\n",
      "          -1       0.00      0.00      0.00       373\n",
      "           0       0.98      1.00      0.99     20063\n",
      "           1       0.00      0.00      0.00        88\n",
      "\n",
      "    accuracy                           0.98     20524\n",
      "   macro avg       0.33      0.33      0.33     20524\n",
      "weighted avg       0.96      0.98      0.97     20524\n",
      "\n",
      "Training Accuracy: 0.590431\n",
      "              precision    recall  f1-score   support\n",
      "\n",
      "       false       0.00      0.00      0.00      8406\n",
      "        true       0.59      1.00      0.74     12118\n",
      "\n",
      "    accuracy                           0.59     20524\n",
      "   macro avg       0.30      0.50      0.37     20524\n",
      "weighted avg       0.35      0.59      0.44     20524\n",
      "\n",
      "Training Accuracy: 0.546531\n",
      "              precision    recall  f1-score   support\n",
      "\n",
      "           0       0.61      0.18      0.28      2287\n",
      "           1       0.45      0.68      0.54      4352\n",
      "           2       0.51      0.34      0.41      3186\n",
      "           3       0.62      0.18      0.28      2382\n",
      "           4       0.60      0.83      0.70      7049\n",
      "           5       0.77      0.34      0.47      1268\n",
      "\n",
      "    accuracy                           0.55     20524\n",
      "   macro avg       0.59      0.43      0.45     20524\n",
      "weighted avg       0.57      0.55      0.51     20524\n",
      "\n"
     ]
    }
   ],
   "source": [
    "from clickbait import ClickbaitModel\n",
    "from sentiment import SentimentModel\n",
    "from spam import SpamModel\n",
    "from source_reliable import SourceReliableModel\n",
    "\n",
    "X_train, X_test, y_train, y_test = train_test_split(df[['source', 'context', 'headline', 'speaker', 'target',\n",
    "                                                        'src_true','src_mostly_true', 'src_half_true', 'src_mostly_false', 'src_false', 'src_pants_on_fire']], df['target'], test_size=.2, random_state=11)\n",
    "\n",
    "clickM = ClickbaitModel()\n",
    "sentiM = SentimentModel()\n",
    "spamM = SpamModel()\n",
    "srcM = SourceReliableModel()\n",
    "\n",
    "sentiM.fit(X_train)\n",
    "spamM.fit(X_train)\n",
    "srcM.fit(X_train)\n"
   ]
  },
  {
   "cell_type": "code",
   "execution_count": 13,
   "metadata": {},
   "outputs": [],
   "source": [
    "acc_lst = [0.946, 0.976, 0.412, 0.589]\n",
    "weight = [acc/sum(acc_lst) for acc in acc_lst]\n",
    "clickbaitV = clickM.predict(X_test)[1] * weight[0]\n",
    "sentiV = sentiM.predict(X_test)[1] * weight[1]\n",
    "spamV = spamM.predict(X_test)[1] * weight[2]\n",
    "sourceV = srcM.predict(X_test)[1] * weight[3]"
   ]
  },
  {
   "cell_type": "code",
   "execution_count": 28,
   "metadata": {},
   "outputs": [],
   "source": [
    "train_clickbaitV = clickM.predict(X_train)[1] * weight[0]\n",
    "train_sentiV = sentiM.predict(X_train)[1] * weight[1]\n",
    "train_spamV = spamM.predict(X_train)[1] * weight[2]\n",
    "train_sourceV = srcM.predict(X_train)[1] * weight[3]"
   ]
  },
  {
   "cell_type": "code",
   "execution_count": 36,
   "metadata": {},
   "outputs": [],
   "source": [
    "veracity_train = pd.DataFrame({'clickbait':train_clickbaitV, 'sentiment': train_sentiV, 'spam': train_spamV, 'source': train_sourceV})\n",
    "veracity_test = pd.DataFrame({'clickbait':clickbaitV, 'sentiment': sentiV, 'spam': spamV, 'source': sourceV})"
   ]
  },
  {
   "cell_type": "code",
   "execution_count": 37,
   "metadata": {},
   "outputs": [
    {
     "data": {
      "text/plain": [
       "0.3047138047138047"
      ]
     },
     "execution_count": 37,
     "metadata": {},
     "output_type": "execute_result"
    }
   ],
   "source": [
    "clf = LogisticRegression(solver='liblinear')\n",
    "clf.fit(veracity_train, y_train)\n",
    "clf.score(veracity_test, y_test)"
   ]
  },
  {
   "cell_type": "code",
   "execution_count": null,
   "metadata": {},
   "outputs": [],
   "source": []
  }
 ],
 "metadata": {
  "kernelspec": {
   "display_name": "Python 3",
   "language": "python",
   "name": "python3"
  },
  "language_info": {
   "codemirror_mode": {
    "name": "ipython",
    "version": 3
   },
   "file_extension": ".py",
   "mimetype": "text/x-python",
   "name": "python",
   "nbconvert_exporter": "python",
   "pygments_lexer": "ipython3",
   "version": "3.10.11"
  }
 },
 "nbformat": 4,
 "nbformat_minor": 2
}
