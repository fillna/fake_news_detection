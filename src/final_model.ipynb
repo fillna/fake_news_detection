{
 "cells": [
  {
   "cell_type": "code",
   "execution_count": 27,
   "metadata": {},
   "outputs": [],
   "source": [
    "import pandas as pd\n",
    "import csv\n",
    "\n",
    "from sklearn.model_selection import train_test_split\n",
    "from sklearn.linear_model import LogisticRegression"
   ]
  },
  {
   "cell_type": "code",
   "execution_count": 2,
   "metadata": {},
   "outputs": [
    {
     "data": {
      "text/html": [
       "<div>\n",
       "<style scoped>\n",
       "    .dataframe tbody tr th:only-of-type {\n",
       "        vertical-align: middle;\n",
       "    }\n",
       "\n",
       "    .dataframe tbody tr th {\n",
       "        vertical-align: top;\n",
       "    }\n",
       "\n",
       "    .dataframe thead th {\n",
       "        text-align: right;\n",
       "    }\n",
       "</style>\n",
       "<table border=\"1\" class=\"dataframe\">\n",
       "  <thead>\n",
       "    <tr style=\"text-align: right;\">\n",
       "      <th></th>\n",
       "      <th>headline</th>\n",
       "      <th>target</th>\n",
       "      <th>references</th>\n",
       "      <th>src_true</th>\n",
       "      <th>src_mostly_true</th>\n",
       "      <th>src_half_true</th>\n",
       "      <th>src_mostly_false</th>\n",
       "      <th>src_false</th>\n",
       "      <th>src_pants_on_fire</th>\n",
       "    </tr>\n",
       "  </thead>\n",
       "  <tbody>\n",
       "    <tr>\n",
       "      <th>0</th>\n",
       "      <td>“The airport in Salzburg, Austria, has a count...</td>\n",
       "      <td>false</td>\n",
       "      <td>instagram_post,the_local,washington_post,x_post</td>\n",
       "      <td>5</td>\n",
       "      <td>3</td>\n",
       "      <td>16</td>\n",
       "      <td>54</td>\n",
       "      <td>480</td>\n",
       "      <td>157</td>\n",
       "    </tr>\n",
       "    <tr>\n",
       "      <th>1</th>\n",
       "      <td>Video shows Palestinians pretending to be corp...</td>\n",
       "      <td>false</td>\n",
       "      <td>instagram_post,instagram_post,youtube</td>\n",
       "      <td>4</td>\n",
       "      <td>13</td>\n",
       "      <td>35</td>\n",
       "      <td>53</td>\n",
       "      <td>764</td>\n",
       "      <td>340</td>\n",
       "    </tr>\n",
       "    <tr>\n",
       "      <th>2</th>\n",
       "      <td>The life span of a wind tower generator lasts ...</td>\n",
       "      <td>false</td>\n",
       "      <td>none,x_post,facebook_post,interview,interview,...</td>\n",
       "      <td>24</td>\n",
       "      <td>50</td>\n",
       "      <td>108</td>\n",
       "      <td>247</td>\n",
       "      <td>1532</td>\n",
       "      <td>595</td>\n",
       "    </tr>\n",
       "    <tr>\n",
       "      <th>3</th>\n",
       "      <td>Matthew Perry died because of a COVID-19 vaccine.</td>\n",
       "      <td>false</td>\n",
       "      <td>instagram_post,instagram_post,instagram_post,i...</td>\n",
       "      <td>5</td>\n",
       "      <td>3</td>\n",
       "      <td>16</td>\n",
       "      <td>54</td>\n",
       "      <td>480</td>\n",
       "      <td>157</td>\n",
       "    </tr>\n",
       "    <tr>\n",
       "      <th>4</th>\n",
       "      <td>A discrepancy in the number of ballots and vot...</td>\n",
       "      <td>false</td>\n",
       "      <td>interview,interview,interview,new_york_citizen...</td>\n",
       "      <td>0</td>\n",
       "      <td>0</td>\n",
       "      <td>0</td>\n",
       "      <td>0</td>\n",
       "      <td>1</td>\n",
       "      <td>0</td>\n",
       "    </tr>\n",
       "  </tbody>\n",
       "</table>\n",
       "</div>"
      ],
      "text/plain": [
       "                                            headline target  \\\n",
       "0  “The airport in Salzburg, Austria, has a count...  false   \n",
       "1  Video shows Palestinians pretending to be corp...  false   \n",
       "2  The life span of a wind tower generator lasts ...  false   \n",
       "3  Matthew Perry died because of a COVID-19 vaccine.  false   \n",
       "4  A discrepancy in the number of ballots and vot...  false   \n",
       "\n",
       "                                          references  src_true  \\\n",
       "0    instagram_post,the_local,washington_post,x_post         5   \n",
       "1              instagram_post,instagram_post,youtube         4   \n",
       "2  none,x_post,facebook_post,interview,interview,...        24   \n",
       "3  instagram_post,instagram_post,instagram_post,i...         5   \n",
       "4  interview,interview,interview,new_york_citizen...         0   \n",
       "\n",
       "   src_mostly_true  src_half_true  src_mostly_false  src_false  \\\n",
       "0                3             16                54        480   \n",
       "1               13             35                53        764   \n",
       "2               50            108               247       1532   \n",
       "3                3             16                54        480   \n",
       "4                0              0                 0          1   \n",
       "\n",
       "   src_pants_on_fire  \n",
       "0                157  \n",
       "1                340  \n",
       "2                595  \n",
       "3                157  \n",
       "4                  0  "
      ]
     },
     "execution_count": 2,
     "metadata": {},
     "output_type": "execute_result"
    }
   ],
   "source": [
    "df = pd.read_csv('../data/politifact_plus.csv', usecols=['headline', 'target', 'references', \n",
    "                                                         'src_true','src_mostly_true', 'src_half_true', 'src_mostly_false', 'src_false', 'src_pants_on_fire'])\n",
    "df.head()"
   ]
  },
  {
   "cell_type": "code",
   "execution_count": 3,
   "metadata": {},
   "outputs": [
    {
     "name": "stdout",
     "output_type": "stream",
     "text": [
      "Training Accuracy: 0.951914\n",
      "Testing Accuracy: 0.946875\n",
      "Training Accuracy: 0.976010\n",
      "Training Accuracy: 0.412616\n",
      "Training Accuracy: 0.589594\n"
     ]
    }
   ],
   "source": [
    "from clickbait import ClickbaitModel\n",
    "from sentiment import SentimentModel\n",
    "from spam import SpamModel\n",
    "from source_reliable import SourceReliableModel\n",
    "\n",
    "X_train, X_test, y_train, y_test = train_test_split(df[['headline', 'target', 'references', \n",
    "                                                        'src_true','src_mostly_true', 'src_half_true', 'src_mostly_false', 'src_false', 'src_pants_on_fire']], df['target'], test_size=.2, random_state=11)\n",
    "\n",
    "clickM = ClickbaitModel()\n",
    "sentiM = SentimentModel()\n",
    "spamM = SpamModel()\n",
    "srcM = SourceReliableModel()\n",
    "\n",
    "sentiM.fit(X_train)\n",
    "spamM.fit(X_train)\n",
    "srcM.fit(X_train)\n"
   ]
  },
  {
   "cell_type": "code",
   "execution_count": 13,
   "metadata": {},
   "outputs": [],
   "source": [
    "acc_lst = [0.946, 0.976, 0.412, 0.589]\n",
    "weight = [acc/sum(acc_lst) for acc in acc_lst]\n",
    "clickbaitV = clickM.predict(X_test)[1] * weight[0]\n",
    "sentiV = sentiM.predict(X_test)[1] * weight[1]\n",
    "spamV = spamM.predict(X_test)[1] * weight[2]\n",
    "sourceV = srcM.predict(X_test)[1] * weight[3]"
   ]
  },
  {
   "cell_type": "code",
   "execution_count": 28,
   "metadata": {},
   "outputs": [],
   "source": [
    "train_clickbaitV = clickM.predict(X_train)[1] * weight[0]\n",
    "train_sentiV = sentiM.predict(X_train)[1] * weight[1]\n",
    "train_spamV = spamM.predict(X_train)[1] * weight[2]\n",
    "train_sourceV = srcM.predict(X_train)[1] * weight[3]"
   ]
  },
  {
   "cell_type": "code",
   "execution_count": 36,
   "metadata": {},
   "outputs": [],
   "source": [
    "veracity_train = pd.DataFrame({'clickbait':train_clickbaitV, 'sentiment': train_sentiV, 'spam': train_spamV, 'source': train_sourceV})\n",
    "veracity_test = pd.DataFrame({'clickbait':clickbaitV, 'sentiment': sentiV, 'spam': spamV, 'source': sourceV})"
   ]
  },
  {
   "cell_type": "code",
   "execution_count": 37,
   "metadata": {},
   "outputs": [
    {
     "data": {
      "text/plain": [
       "0.3047138047138047"
      ]
     },
     "execution_count": 37,
     "metadata": {},
     "output_type": "execute_result"
    }
   ],
   "source": [
    "clf = LogisticRegression(solver='liblinear')\n",
    "clf.fit(veracity_train, y_train)\n",
    "clf.score(veracity_test, y_test)"
   ]
  },
  {
   "cell_type": "code",
   "execution_count": null,
   "metadata": {},
   "outputs": [],
   "source": []
  }
 ],
 "metadata": {
  "kernelspec": {
   "display_name": "Python 3",
   "language": "python",
   "name": "python3"
  },
  "language_info": {
   "codemirror_mode": {
    "name": "ipython",
    "version": 3
   },
   "file_extension": ".py",
   "mimetype": "text/x-python",
   "name": "python",
   "nbconvert_exporter": "python",
   "pygments_lexer": "ipython3",
   "version": "3.10.11"
  }
 },
 "nbformat": 4,
 "nbformat_minor": 2
}
